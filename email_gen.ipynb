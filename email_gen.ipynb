{
 "cells": [
  {
   "cell_type": "markdown",
   "id": "ea6ab99e-5511-4b53-8d7a-37727807b644",
   "metadata": {},
   "source": [
    "# Cold Email Generator"
   ]
  },
  {
   "cell_type": "code",
   "execution_count": 1,
   "id": "d360c880-d9e8-46cf-b851-ee11f325e72a",
   "metadata": {},
   "outputs": [],
   "source": [
    "from langchain_groq import ChatGroq"
   ]
  },
  {
   "cell_type": "code",
   "execution_count": 2,
   "id": "6c65940d-bb54-41af-80b4-b357e86ecd44",
   "metadata": {},
   "outputs": [
    {
     "name": "stdout",
     "output_type": "stream",
     "text": [
      "The answer is Clarence Seedorf.\n"
     ]
    }
   ],
   "source": [
    "llm = ChatGroq(\n",
    "    temperature=0,\n",
    "    groq_api_key='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',\n",
    "    model_name=\"llama-3.1-70b-versatile\",\n",
    ")\n",
    "\n",
    "response = llm.invoke(\" The first footballer to win 3 Champions League titles with 3 different teams is ... \")\n",
    "print(response.content)"
   ]
  },
  {
   "cell_type": "code",
   "execution_count": 3,
   "id": "100814e1-8190-441d-baea-d55ae87ebd90",
   "metadata": {},
   "outputs": [
    {
     "name": "stderr",
     "output_type": "stream",
     "text": [
      "USER_AGENT environment variable not set, consider setting it to identify your requests.\n"
     ]
    },
    {
     "name": "stdout",
     "output_type": "stream",
     "text": [
      "Postuler pour Software Engineer\n",
      "\n",
      "Rechercher des postesPasser la navigationRechercher des postesNIKE, INC. JOBSEmplois temporairesJoin The Talent CommunityNike au quotidienPrésentationAvantages sociauxMarquesPrésentationJordanConverseÉquipesPrésentationSoutien administratifInnovation de pointeAir Manufacturing et InnovationAéronautiqueCommunicationsService clientConceptionNumériqueInstallationsFinance et comptabilitéAffaires gouvernementales et publiquesRessources humainesDonnées et analyseService juridiqueFabrication et ingénierieMarketingMerchandisingPlanificationConfidentialitéAchatsCréation, développement et gestion de produitsService de gestion des magasinsMagasinsVentesImpact social et communautaireMarketing sportsPlanification stratégiqueChaîne d'approvisionnement, distribution et logistiqueDurabilitéTechnologieSitesPrésentationNike WHQSiège de Nike à New YorkEHQ : Hilversum, Pays-BasELC: Laakdal, BelgiumGreater China HQDiversité, égalité et inclusivitéPrésentationMilitaryHandicap et inclusionInclusion autochtonesStagesTechnologySoftware EngineerBeaverton, OregonRejoignez l'équipe NIKE,  Inc.Loin de se contenter d'équiper les plus grands athlètes mondiaux,  NIKE, Inc. explore les potentiels, abolit les frontières et repousse les limites du possible. L'entreprise recherche des personnes capables d'évoluer, de réfléchir, de rêver et de créer. L'épanouissement de sa culture repose sur son ouverture à la diversité et sur sa façon d'encourager l'imagination. La marque a besoin de personnes talentueuses, de leaders et de visionnaires. Chez NIKE, Inc., chacun contribue, par ses compétences et sa passion, à jouer un match difficile en constante évolution.NIKE est une entreprise de technologie. De notre site Web phare à nos applications mobiles cinq étoiles en passant par le développement de produits, la gestion des big data, l'ingénierie de pointe et la prise en charge des systèmes, les équipes NIKE Global Technology s'efforcent de révolutionner le futur, à la croisée de la technologie et du sport. Nous investissons dans la technologie et mettons au point des innovations ; nous employons les personnes les plus créatives au monde et leur donnons les clés pour innover, apporter les modifications nécessaires et servir les clients de façon plus directe et personnelle.  Nos équipes innovantes, hétérogènes, multidisciplinaires et collaboratives imaginent les technologies de demain et en font profiter le monde entier.Software Engineer - NIKE. Inc - Beaverton, OR. Develop, code, configure, and test programs and systems and solutions problem in order to meet designed digital product specification and direction. Manage the team on gathering detail design and solving complex problems. Ensure tech design driven by the Engineering Manager has the right level of detail and meets the product technical and business needs. Design and build components, frameworks and libraries at scale to support NIKE products. Design, code, test plans, and dataset implementation performed by other engineers in support of maintaining NIKE engineering standards. Anticipate, identify, and troubleshoot complex issues and perform root cause analysis to proactively resolve products and operational issues. Manage the process of building continuous integration, test-driven development and production deployment frameworks. Work closely with Architects and other tech leads to make sure all solutions adhere to existing guidelines and principles and assist in evolving our processes to continuously improve. Partner with the engineering and product managers to deliver software solutions for NIKE. Review, analyze, and modify programming systems, including coding, testing, debugging, and installing for a small - to mid -scale systems. Telecommuting is available from anywhere in the U.S., except from AK, AL, AR, DE, HI, IA, ID, IN, KS, KY, LA, MT, ND, NE, NH, NM, NV, OH, OK, RI, SD, VT, WV, and WY. Must have a Bachelor’s degree in Computer Science, Software Engineering, Mechanical Engineering or related field and five (5) years of progressive post-baccalaureate experience in the job offered or in a Engineering-related occupation. Experience must include: Java Javascript NodeJS Groovy AWS Cloud platform REST API Automation scripting frameworks and technologies such as Testcafe, Selenium or Postman/Rest-assured Performance tools such as Jmeter or Gatling Build Management tool such as Gradle Version Control tools such as Github SAP modules order management Dev-ops tools such as Splunk, signalFX, AWS Cloudwatch, and Jenkins Database tools such as Mysql, PostgreSQL, and Teradata Cloud testing platform such as browserstack   Apply at www.jobs.nike.com (Job# R-47136)  #LI-DNIWe are committed to fostering a diverse and inclusive environment for all employees and job applicants. We offer a number of accommodations to complete our interview process including screen readers, sign language interpreters, accessible and single location for in-person interviews, closed captioning, and other reasonable modifications as needed. If you discover, as you navigate our application process, that you need assistance or an accommodation due to a disability, please complete the Candidate Accommodation Request Form.NIKE, Inc. est une entreprise en pleine croissance cherchant à intégrer à son équipe des personnes capables de se développer avec elle. Nike offre un généreux programme de rémunération globale, un environnement de travail décontracté, une culture variée et inclusive et une atmosphère dynamique propice au développement professionnel. Quels que soient le site ou le poste, les employés de Nike partagent tous la même mission stimulante : apporter inspiration et innovation aux athlètes* du monde entier.NIKE, Inc. s'engage à embaucher un personnel diversifié. Les candidats qualifiés seront considérés sans tenir compte de leur origine, couleur de peau, religion, sexe, nationalité, âge, orientation sexuelle, identité de genre, expression de genre, statut de vétéran ou handicap.Notre stratégie de recrutementNIKE, Inc. met tout en œuvre pour proposer une expérience de candidature qualitative, inclusive, intéressante et authentique. Pour ce faire, nous vous aidons à venir avec les meilleurs atouts possibles, et donc à comprendre comment fonctionne notre processus d'embauche. La transparence est essentielle.\n",
      "\n",
      "* Cette présentation explique notre processus de recrutement pour les postes basés dans nos bureaux. Il est possible que les étapes de recrutement soient différentes pour les postes basés ailleurs que dans nos bureaux.Commencer maintenantAvantages sociauxDes transports aux avantages financiers, nous investissons en permanence dans le bien-être de nos employés pour les aider à exceller en tous points, au travail comme dans la sphère privée. Tous ceux qui travaillent chez Nike devraient pouvoir exploiter pleinement leur potentiel.Programme d'aide aux employésPlan d'actionnariat salariéJours fériésCouverture médicaleCongés payésRéductions sur les produitsCongés sabbatiquesEn savoir plusCARTES CADEAUXTROUVER UN MAGASINNIKE JOURNALDEVENIR MEMBRERÉDUCTION POUR ÉTUDIANTSCOMMENTAIRESCODES PROMOAIDEAIDEStatut de commandeExpédition et livraisonRetoursModes de paiementNous contacterAide - Codes promo NikeÀ PROPOS DE NIKEÀ PROPOS DE NIKEActualitésCarrièresInvestisseursDéveloppement durableAPPLICATIONS NIKEAPPLICATIONS NIKENike AppNike Run ClubNike Training ClubSNKRSFrance© 2024 Nike, Inc. Tous droits réservésGuidesNike AdaptNike FlyEaseNike FreeNike VaporflyÉquipement de fan NBANike AirNike FlyKnitNike PegasusNike Zoom FlyFactory StoreNike Air MaxNike FlyleatherNike ReactNike ZoomXKids AirtopiaConditions d'utilisationConditions générales de venteMentions légalesPolitique en matière de confidentialité et de cookiesParamètres des cookies\n"
     ]
    }
   ],
   "source": [
    "from langchain_community.document_loaders import WebBaseLoader\n",
    "\n",
    "loader = WebBaseLoader(\"https://jobs.nike.com/fr/job/R-47136?from=job%20search%20funnel\")\n",
    "\n",
    "page_data= loader.load().pop().page_content\n",
    "print(page_data)"
   ]
  },
  {
   "cell_type": "code",
   "execution_count": 4,
   "id": "1f009377-d9a2-4f7b-8050-02aeb13d0b36",
   "metadata": {},
   "outputs": [],
   "source": [
    "from langchain_core.prompts import PromptTemplate\n"
   ]
  },
  {
   "cell_type": "code",
   "execution_count": 5,
   "id": "899301cd-ffb4-4d60-b189-8c2c95d8435d",
   "metadata": {},
   "outputs": [
    {
     "name": "stdout",
     "output_type": "stream",
     "text": [
      "[\n",
      "  {\n",
      "    \"role\": \"Software Engineer\",\n",
      "    \"experience\": \"5 years of progressive post-baccalaureate experience in the job offered or in a Engineering-related occupation\",\n",
      "    \"skills\": [\n",
      "      \"Java\",\n",
      "      \"Javascript\",\n",
      "      \"NodeJS\",\n",
      "      \"Groovy\",\n",
      "      \"AWS Cloud platform\",\n",
      "      \"REST API\",\n",
      "      \"Automation scripting frameworks and technologies such as Testcafe, Selenium or Postman/Rest-assured\",\n",
      "      \"Performance tools such as Jmeter or Gatling\",\n",
      "      \"Build Management tool such as Gradle\",\n",
      "      \"Version Control tools such as Github\",\n",
      "      \"SAP modules order management\",\n",
      "      \"Dev-ops tools such as Splunk, signalFX, AWS Cloudwatch, and Jenkins\",\n",
      "      \"Database tools such as Mysql, PostgreSQL, and Teradata\",\n",
      "      \"Cloud testing platform such as browserstack\"\n",
      "    ],\n",
      "    \"description\": \"Develop, code, configure, and test programs and systems and solutions problem in order to meet designed digital product specification and direction. Manage the team on gathering detail design and solving complex problems. Ensure tech design driven by the Engineering Manager has the right level of detail and meets the product technical and business needs. Design and build components, frameworks and libraries at scale to support NIKE products. Design, code, test plans, and dataset implementation performed by other engineers in support of maintaining NIKE engineering standards. Anticipate, identify, and troubleshoot complex issues and perform root cause analysis to proactively resolve products and operational issues. Manage the process of building continuous integration, test-driven development and production deployment frameworks. Work closely with Architects and other tech leads to make sure all solutions adhere to existing guidelines and principles and assist in evolving our processes to continuously improve. Partner with the engineering and product managers to deliver software solutions for NIKE. Review, analyze, and modify programming systems, including coding, testing, debugging, and installing for a small - to mid -scale systems.\"\n",
      "  }\n",
      "]\n"
     ]
    }
   ],
   "source": [
    "prompt_extract = PromptTemplate.from_template(\n",
    "    \"\"\"\n",
    "    ### SCRAPED TEXT FROM WEBSITE:\n",
    "    {page_data}\n",
    "    ### INSTRUCTION:\n",
    "    The scraped text is from the career's page of a website.\n",
    "    Your job is to extract the job postings and return them in JSON format containing the \n",
    "    following keys: 'role', 'experience','skills' and 'description'.\n",
    "    Only return the valid JSON.\n",
    "    ### VALID JSON (NO PREAMBLE):\n",
    "    \"\"\"\n",
    ")\n",
    "chain_extract = prompt_extract | llm\n",
    "res = chain_extract.invoke(input={'page_data':page_data})\n",
    "print(res.content)"
   ]
  },
  {
   "cell_type": "code",
   "execution_count": 6,
   "id": "b166df3d-0b45-4480-97a0-f6a0e26fcd49",
   "metadata": {},
   "outputs": [
    {
     "data": {
      "text/plain": [
       "[{'role': 'Software Engineer',\n",
       "  'experience': '5 years of progressive post-baccalaureate experience in the job offered or in a Engineering-related occupation',\n",
       "  'skills': ['Java',\n",
       "   'Javascript',\n",
       "   'NodeJS',\n",
       "   'Groovy',\n",
       "   'AWS Cloud platform',\n",
       "   'REST API',\n",
       "   'Automation scripting frameworks and technologies such as Testcafe, Selenium or Postman/Rest-assured',\n",
       "   'Performance tools such as Jmeter or Gatling',\n",
       "   'Build Management tool such as Gradle',\n",
       "   'Version Control tools such as Github',\n",
       "   'SAP modules order management',\n",
       "   'Dev-ops tools such as Splunk, signalFX, AWS Cloudwatch, and Jenkins',\n",
       "   'Database tools such as Mysql, PostgreSQL, and Teradata',\n",
       "   'Cloud testing platform such as browserstack'],\n",
       "  'description': 'Develop, code, configure, and test programs and systems and solutions problem in order to meet designed digital product specification and direction. Manage the team on gathering detail design and solving complex problems. Ensure tech design driven by the Engineering Manager has the right level of detail and meets the product technical and business needs. Design and build components, frameworks and libraries at scale to support NIKE products. Design, code, test plans, and dataset implementation performed by other engineers in support of maintaining NIKE engineering standards. Anticipate, identify, and troubleshoot complex issues and perform root cause analysis to proactively resolve products and operational issues. Manage the process of building continuous integration, test-driven development and production deployment frameworks. Work closely with Architects and other tech leads to make sure all solutions adhere to existing guidelines and principles and assist in evolving our processes to continuously improve. Partner with the engineering and product managers to deliver software solutions for NIKE. Review, analyze, and modify programming systems, including coding, testing, debugging, and installing for a small - to mid -scale systems.'}]"
      ]
     },
     "execution_count": 6,
     "metadata": {},
     "output_type": "execute_result"
    }
   ],
   "source": [
    "from langchain_core.output_parsers import JsonOutputParser\n",
    "\n",
    "json_parser = JsonOutputParser()\n",
    "json_res = json_parser.parse(res.content)\n",
    "json_res"
   ]
  },
  {
   "cell_type": "code",
   "execution_count": 7,
   "id": "f2341a77-7e32-40b5-80ef-69fcc181cb9d",
   "metadata": {},
   "outputs": [
    {
     "data": {
      "text/html": [
       "<div>\n",
       "<style scoped>\n",
       "    .dataframe tbody tr th:only-of-type {\n",
       "        vertical-align: middle;\n",
       "    }\n",
       "\n",
       "    .dataframe tbody tr th {\n",
       "        vertical-align: top;\n",
       "    }\n",
       "\n",
       "    .dataframe thead th {\n",
       "        text-align: right;\n",
       "    }\n",
       "</style>\n",
       "<table border=\"1\" class=\"dataframe\">\n",
       "  <thead>\n",
       "    <tr style=\"text-align: right;\">\n",
       "      <th></th>\n",
       "      <th>Techstack</th>\n",
       "      <th>Links</th>\n",
       "    </tr>\n",
       "  </thead>\n",
       "  <tbody>\n",
       "    <tr>\n",
       "      <th>0</th>\n",
       "      <td>React, Node.js, MongoDB</td>\n",
       "      <td>https://example.com/react-portfolio</td>\n",
       "    </tr>\n",
       "    <tr>\n",
       "      <th>1</th>\n",
       "      <td>Angular,.NET, SQL Server</td>\n",
       "      <td>https://example.com/angular-portfolio</td>\n",
       "    </tr>\n",
       "    <tr>\n",
       "      <th>2</th>\n",
       "      <td>Vue.js, Ruby on Rails, PostgreSQL</td>\n",
       "      <td>https://example.com/vue-portfolio</td>\n",
       "    </tr>\n",
       "    <tr>\n",
       "      <th>3</th>\n",
       "      <td>Python, Django, MySQL</td>\n",
       "      <td>https://example.com/python-portfolio</td>\n",
       "    </tr>\n",
       "    <tr>\n",
       "      <th>4</th>\n",
       "      <td>Java, Spring Boot, Oracle</td>\n",
       "      <td>https://example.com/java-portfolio</td>\n",
       "    </tr>\n",
       "    <tr>\n",
       "      <th>5</th>\n",
       "      <td>Flutter, Firebase, GraphQL</td>\n",
       "      <td>https://example.com/flutter-portfolio</td>\n",
       "    </tr>\n",
       "    <tr>\n",
       "      <th>6</th>\n",
       "      <td>WordPress, PHP, MySQL</td>\n",
       "      <td>https://example.com/wordpress-portfolio</td>\n",
       "    </tr>\n",
       "    <tr>\n",
       "      <th>7</th>\n",
       "      <td>Magento, PHP, MySQL</td>\n",
       "      <td>https://example.com/magento-portfolio</td>\n",
       "    </tr>\n",
       "    <tr>\n",
       "      <th>8</th>\n",
       "      <td>React Native, Node.js, MongoDB</td>\n",
       "      <td>https://example.com/react-native-portfolio</td>\n",
       "    </tr>\n",
       "    <tr>\n",
       "      <th>9</th>\n",
       "      <td>iOS, Swift, Core Data</td>\n",
       "      <td>https://example.com/ios-portfolio</td>\n",
       "    </tr>\n",
       "    <tr>\n",
       "      <th>10</th>\n",
       "      <td>Android, Java, Room Persistence</td>\n",
       "      <td>https://example.com/android-portfolio</td>\n",
       "    </tr>\n",
       "    <tr>\n",
       "      <th>11</th>\n",
       "      <td>Kotlin, Android, Firebase</td>\n",
       "      <td>https://example.com/kotlin-android-portfolio</td>\n",
       "    </tr>\n",
       "    <tr>\n",
       "      <th>12</th>\n",
       "      <td>Android TV, Kotlin, Android NDK</td>\n",
       "      <td>https://example.com/android-tv-portfolio</td>\n",
       "    </tr>\n",
       "    <tr>\n",
       "      <th>13</th>\n",
       "      <td>iOS, Swift, ARKit</td>\n",
       "      <td>https://example.com/ios-ar-portfolio</td>\n",
       "    </tr>\n",
       "    <tr>\n",
       "      <th>14</th>\n",
       "      <td>Cross-platform, Xamarin, Azure</td>\n",
       "      <td>https://example.com/xamarin-portfolio</td>\n",
       "    </tr>\n",
       "    <tr>\n",
       "      <th>15</th>\n",
       "      <td>Backend, Kotlin, Spring Boot</td>\n",
       "      <td>https://example.com/kotlin-backend-portfolio</td>\n",
       "    </tr>\n",
       "    <tr>\n",
       "      <th>16</th>\n",
       "      <td>Frontend, TypeScript, Angular</td>\n",
       "      <td>https://example.com/typescript-frontend-portfolio</td>\n",
       "    </tr>\n",
       "    <tr>\n",
       "      <th>17</th>\n",
       "      <td>Full-stack, JavaScript, Express.js</td>\n",
       "      <td>https://example.com/full-stack-js-portfolio</td>\n",
       "    </tr>\n",
       "    <tr>\n",
       "      <th>18</th>\n",
       "      <td>Machine Learning, Python, TensorFlow</td>\n",
       "      <td>https://example.com/ml-python-portfolio</td>\n",
       "    </tr>\n",
       "    <tr>\n",
       "      <th>19</th>\n",
       "      <td>DevOps, Jenkins, Docker</td>\n",
       "      <td>https://example.com/devops-portfolio</td>\n",
       "    </tr>\n",
       "  </tbody>\n",
       "</table>\n",
       "</div>"
      ],
      "text/plain": [
       "                               Techstack  \\\n",
       "0                React, Node.js, MongoDB   \n",
       "1               Angular,.NET, SQL Server   \n",
       "2      Vue.js, Ruby on Rails, PostgreSQL   \n",
       "3                  Python, Django, MySQL   \n",
       "4              Java, Spring Boot, Oracle   \n",
       "5             Flutter, Firebase, GraphQL   \n",
       "6                  WordPress, PHP, MySQL   \n",
       "7                    Magento, PHP, MySQL   \n",
       "8         React Native, Node.js, MongoDB   \n",
       "9                  iOS, Swift, Core Data   \n",
       "10       Android, Java, Room Persistence   \n",
       "11             Kotlin, Android, Firebase   \n",
       "12       Android TV, Kotlin, Android NDK   \n",
       "13                     iOS, Swift, ARKit   \n",
       "14        Cross-platform, Xamarin, Azure   \n",
       "15          Backend, Kotlin, Spring Boot   \n",
       "16         Frontend, TypeScript, Angular   \n",
       "17    Full-stack, JavaScript, Express.js   \n",
       "18  Machine Learning, Python, TensorFlow   \n",
       "19               DevOps, Jenkins, Docker   \n",
       "\n",
       "                                                Links  \n",
       "0                 https://example.com/react-portfolio  \n",
       "1               https://example.com/angular-portfolio  \n",
       "2                   https://example.com/vue-portfolio  \n",
       "3                https://example.com/python-portfolio  \n",
       "4                  https://example.com/java-portfolio  \n",
       "5               https://example.com/flutter-portfolio  \n",
       "6             https://example.com/wordpress-portfolio  \n",
       "7               https://example.com/magento-portfolio  \n",
       "8          https://example.com/react-native-portfolio  \n",
       "9                   https://example.com/ios-portfolio  \n",
       "10              https://example.com/android-portfolio  \n",
       "11       https://example.com/kotlin-android-portfolio  \n",
       "12           https://example.com/android-tv-portfolio  \n",
       "13               https://example.com/ios-ar-portfolio  \n",
       "14              https://example.com/xamarin-portfolio  \n",
       "15       https://example.com/kotlin-backend-portfolio  \n",
       "16  https://example.com/typescript-frontend-portfolio  \n",
       "17        https://example.com/full-stack-js-portfolio  \n",
       "18            https://example.com/ml-python-portfolio  \n",
       "19               https://example.com/devops-portfolio  "
      ]
     },
     "execution_count": 7,
     "metadata": {},
     "output_type": "execute_result"
    }
   ],
   "source": [
    "import pandas as pd\n",
    "\n",
    "df = pd.read_csv(\"my_portfolio.csv\")\n",
    "df"
   ]
  },
  {
   "cell_type": "code",
   "execution_count": 8,
   "id": "577ae0d4-93e7-4582-8ee3-8b2d6e78dbff",
   "metadata": {},
   "outputs": [],
   "source": [
    "import uuid\n",
    "import chromadb\n",
    "\n",
    "client = chromadb.PersistentClient('vectorstore')\n",
    "collection = client.get_or_create_collection(name=\"portfolio\")\n",
    "\n",
    "if not collection.count():\n",
    "    for _, row in df.iterrows():\n",
    "        collection.add(documents=row[\"Techstack\"],\n",
    "                       metadatas={\"links\": row[\"Links\"]},\n",
    "                       ids=[str(uuid.uuid4())])"
   ]
  },
  {
   "cell_type": "code",
   "execution_count": 12,
   "id": "1f15c290-e142-4d85-8e2b-a50272a33f9d",
   "metadata": {},
   "outputs": [
    {
     "data": {
      "text/plain": [
       "[[{'links': 'https://example.com/java-portfolio'},\n",
       "  {'links': 'https://example.com/android-portfolio'}],\n",
       " [{'links': 'https://example.com/full-stack-js-portfolio'},\n",
       "  {'links': 'https://example.com/typescript-frontend-portfolio'}],\n",
       " [{'links': 'https://example.com/react-portfolio'},\n",
       "  {'links': 'https://example.com/react-native-portfolio'}],\n",
       " [{'links': 'https://example.com/kotlin-backend-portfolio'},\n",
       "  {'links': 'https://example.com/java-portfolio'}],\n",
       " [{'links': 'https://example.com/xamarin-portfolio'},\n",
       "  {'links': 'https://example.com/devops-portfolio'}],\n",
       " [{'links': 'https://example.com/vue-portfolio'},\n",
       "  {'links': 'https://example.com/wordpress-portfolio'}],\n",
       " [{'links': 'https://example.com/full-stack-js-portfolio'},\n",
       "  {'links': 'https://example.com/devops-portfolio'}],\n",
       " [{'links': 'https://example.com/ml-python-portfolio'},\n",
       "  {'links': 'https://example.com/vue-portfolio'}],\n",
       " [{'links': 'https://example.com/devops-portfolio'},\n",
       "  {'links': 'https://example.com/kotlin-backend-portfolio'}],\n",
       " [{'links': 'https://example.com/devops-portfolio'},\n",
       "  {'links': 'https://example.com/typescript-frontend-portfolio'}],\n",
       " [{'links': 'https://example.com/angular-portfolio'},\n",
       "  {'links': 'https://example.com/typescript-frontend-portfolio'}],\n",
       " [{'links': 'https://example.com/devops-portfolio'},\n",
       "  {'links': 'https://example.com/vue-portfolio'}],\n",
       " [{'links': 'https://example.com/magento-portfolio'},\n",
       "  {'links': 'https://example.com/wordpress-portfolio'}],\n",
       " [{'links': 'https://example.com/devops-portfolio'},\n",
       "  {'links': 'https://example.com/xamarin-portfolio'}]]"
      ]
     },
     "execution_count": 12,
     "metadata": {},
     "output_type": "execute_result"
    }
   ],
   "source": [
    "links = collection.query(query_texts=job['skills'], n_results=2).get('metadatas', [])\n",
    "links"
   ]
  },
  {
   "cell_type": "code",
   "execution_count": 9,
   "id": "7145a7a4-0de4-4438-952e-9bc0823a62aa",
   "metadata": {},
   "outputs": [
    {
     "ename": "TypeError",
     "evalue": "list indices must be integers or slices, not str",
     "output_type": "error",
     "traceback": [
      "\u001b[1;31m---------------------------------------------------------------------------\u001b[0m",
      "\u001b[1;31mTypeError\u001b[0m                                 Traceback (most recent call last)",
      "Cell \u001b[1;32mIn[9], line 2\u001b[0m\n\u001b[0;32m      1\u001b[0m job \u001b[38;5;241m=\u001b[39m json_res\n\u001b[1;32m----> 2\u001b[0m \u001b[43mjob\u001b[49m\u001b[43m[\u001b[49m\u001b[38;5;124;43m'\u001b[39;49m\u001b[38;5;124;43mskills\u001b[39;49m\u001b[38;5;124;43m'\u001b[39;49m\u001b[43m]\u001b[49m\n",
      "\u001b[1;31mTypeError\u001b[0m: list indices must be integers or slices, not str"
     ]
    }
   ],
   "source": [
    "job = json_res\n",
    "job['skills']"
   ]
  },
  {
   "cell_type": "code",
   "execution_count": 13,
   "id": "238c13ea-f902-4f79-b779-aa33c38f5b0e",
   "metadata": {},
   "outputs": [
    {
     "name": "stdout",
     "output_type": "stream",
     "text": [
      "Subject: Expert Software Engineering Services for NIKE's Digital Products\n",
      "\n",
      "Dear Hiring Manager,\n",
      "\n",
      "I came across the job description for a Software Engineer at NIKE, and I'm excited to introduce AtliQ, a leading AI & Software Consulting company. Our team of experts has extensive experience in developing, coding, configuring, and testing programs and systems that meet the highest standards of digital product specifications.\n",
      "\n",
      "At AtliQ, we have a proven track record of delivering scalable, efficient, and cost-effective solutions that cater to the needs of our clients. Our expertise in Java, Javascript, NodeJS, Groovy, and AWS Cloud platform aligns perfectly with the requirements mentioned in the job description. We also have experience with Automation scripting frameworks and technologies such as Testcafe, Selenium, and Postman/Rest-assured.\n",
      "\n",
      "Our team has worked on various projects that involve designing and building components, frameworks, and libraries at scale to support complex systems. We have also developed expertise in Dev-ops tools such as Splunk, signalFX, AWS Cloudwatch, and Jenkins, as well as Database tools like Mysql, PostgreSQL, and Teradata.\n",
      "\n",
      "To showcase our capabilities, I'd like to share some of our relevant portfolio links:\n",
      "\n",
      "* Java Portfolio: https://example.com/java-portfolio\n",
      "* Full Stack JS Portfolio: https://example.com/full-stack-js-portfolio\n",
      "* Devops Portfolio: https://example.com/devops-portfolio\n",
      "\n",
      "These links demonstrate our expertise in developing complex software systems and our ability to deliver high-quality solutions that meet the needs of our clients.\n",
      "\n",
      "At AtliQ, we're committed to delivering exceptional results and exceeding our clients' expectations. I'd be delighted to discuss how our team can support NIKE's digital product development needs. Please feel free to reach out to me directly to schedule a call.\n",
      "\n",
      "Best regards,\n",
      "\n",
      "Mohan\n",
      "Business Development Executive\n",
      "AtliQ\n"
     ]
    }
   ],
   "source": [
    "prompt_email = PromptTemplate.from_template(\n",
    "        \"\"\"\n",
    "        ### JOB DESCRIPTION:\n",
    "        {job_description}\n",
    "        \n",
    "        ### INSTRUCTION:\n",
    "        You are Mohan, a business development executive at AtliQ. AtliQ is an AI & Software Consulting company dedicated to facilitating\n",
    "        the seamless integration of business processes through automated tools. \n",
    "        Over our experience, we have empowered numerous enterprises with tailored solutions, fostering scalability, \n",
    "        process optimization, cost reduction, and heightened overall efficiency. \n",
    "        Your job is to write a cold email to the client regarding the job mentioned above describing the capability of AtliQ \n",
    "        in fulfilling their needs.\n",
    "        Also add the most relevant ones from the following links to showcase Atliq's portfolio: {link_list}\n",
    "        Remember you are Mohan, BDE at AtliQ. \n",
    "        Do not provide a preamble.\n",
    "        ### EMAIL (NO PREAMBLE):\n",
    "        \n",
    "        \"\"\"\n",
    "        )\n",
    "\n",
    "chain_email = prompt_email | llm\n",
    "res = chain_email.invoke({\"job_description\": str(job), \"link_list\": links})\n",
    "print(res.content)"
   ]
  }
 ],
 "metadata": {
  "kernelspec": {
   "display_name": "Python 3 (ipykernel)",
   "language": "python",
   "name": "python3"
  },
  "language_info": {
   "codemirror_mode": {
    "name": "ipython",
    "version": 3
   },
   "file_extension": ".py",
   "mimetype": "text/x-python",
   "name": "python",
   "nbconvert_exporter": "python",
   "pygments_lexer": "ipython3",
   "version": "3.12.3"
  }
 },
 "nbformat": 4,
 "nbformat_minor": 5
}
